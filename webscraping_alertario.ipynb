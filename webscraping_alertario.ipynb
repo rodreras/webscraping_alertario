{
 "cells": [
  {
   "cell_type": "code",
   "execution_count": 1,
   "metadata": {},
   "outputs": [],
   "source": [
    "import pandas as pd\n",
    "from bs4 import BeautifulSoup\n",
    "import requests\n",
    "from selenium import webdriver\n",
    "from selenium.webdriver.common.keys import Keys\n",
    "from selenium.webdriver.common.by import By\n",
    "from selenium.webdriver.support.ui import Select\n",
    "import time\n",
    "import numpy as np\n",
    "import os"
   ]
  },
  {
   "cell_type": "code",
   "execution_count": 2,
   "metadata": {},
   "outputs": [],
   "source": [
    "#creating a directory for the raw data\n",
    "#directory = 'dados_brutos'\n",
    "#parent_dir = os.getcwd()\n",
    "#pathfile = os.path.join(parent_dir,directory)\n",
    "#os.mkdir(path)\n",
    "\n",
    "#directory_zip = 'dados_deszipados'\n",
    "#parent_dir = os.getcwd()\n",
    "#pathfile_zip = os.path.join(parent_dir,directory_zip)\n",
    "#os.mkdir(pathfile_zip)"
   ]
  },
  {
   "cell_type": "code",
   "execution_count": 3,
   "metadata": {},
   "outputs": [
    {
     "name": "stdout",
     "output_type": "stream",
     "text": [
      "<Response [200]>\n"
     ]
    }
   ],
   "source": [
    "#setting the website url\n",
    "url = 'http://alertario.rio.rj.gov.br/download/dados-meteorologicos/'\n",
    "\n",
    "#checking the requests\n",
    "req = requests.get(url)\n",
    "print(req) #if <Response [200]> it means that it works!"
   ]
  },
  {
   "cell_type": "code",
   "execution_count": 18,
   "metadata": {},
   "outputs": [],
   "source": [
    "soup = BeautifulSoup(req.content, 'html.parser')"
   ]
  },
  {
   "cell_type": "code",
   "execution_count": 82,
   "metadata": {},
   "outputs": [
    {
     "name": "stdout",
     "output_type": "stream",
     "text": [
      "http://websempre.rio.rj.gov.br:8000/dados/pluviometricos/met/\n",
      "['1997', '1998', '1999', '2000', '2001', '2002', '2003', '2004', '2005', '2006', '2007', '2008', '2009', '2010', '2011', '2012', '2013', '2014', '2015', '2016', '2017', '2018', '2019', '2020', '2021']\n",
      "Downloading File From the Year Of 1997\n",
      "Downloading File From the Year Of 1998\n",
      "Downloading File From the Year Of 1999\n",
      "Downloading File From the Year Of 2000\n",
      "Downloading File From the Year Of 2001\n",
      "Downloading File From the Year Of 2002\n",
      "Downloading File From the Year Of 2003\n",
      "Downloading File From the Year Of 2004\n",
      "Downloading File From the Year Of 2005\n",
      "Downloading File From the Year Of 2006\n",
      "Downloading File From the Year Of 2007\n",
      "Downloading File From the Year Of 2008\n",
      "Downloading File From the Year Of 2009\n",
      "Downloading File From the Year Of 2010\n",
      "Downloading File From the Year Of 2011\n",
      "Downloading File From the Year Of 2012\n",
      "Downloading File From the Year Of 2013\n",
      "Downloading File From the Year Of 2014\n",
      "Downloading File From the Year Of 2015\n",
      "Downloading File From the Year Of 2016\n",
      "Downloading File From the Year Of 2017\n",
      "Downloading File From the Year Of 2018\n",
      "Downloading File From the Year Of 2019\n",
      "Downloading File From the Year Of 2020\n",
      "Downloading File From the Year Of 2021\n"
     ]
    }
   ],
   "source": [
    "\n",
    "pathc = 'C:\\Program Files (x86)\\chromedriver.exe' #getting the path of chromedriver.exe\n",
    "driver = browser = webdriver.Chrome(pathc)        #setting the driver\n",
    "driver.get(url)                                  #getting the driver to read the url\n",
    "\n",
    "\n",
    "#telling selenium to look for the tag name 'iframe' and then get the src link.\n",
    "box = driver.find_element_by_tag_name('iframe').get_attribute('src')\n",
    "\n",
    "#printing the src link to make sure that this is the website that hosts the data we whant\n",
    "print(box)\n",
    "\n",
    "#telling selenium that it should access the new link\n",
    "driver.get(box)\n",
    "\n",
    "#looking for the xpath of the checkbox that checks all of them, and then click it.\n",
    "driver.find_element_by_xpath(\".//*[@id='all_check']\").click()\n",
    "\n",
    "#creating a variable where selenium looks the id for the drop-down list\n",
    "select = Select(driver.find_element_by_id('all_choice'))\n",
    "\n",
    "#testing if it's going to get the year 1997 (index 0)\n",
    "select.select_by_index(0)\n",
    "\n",
    "# new variable to store all options inside de drop-down list\n",
    "all_options = select.options\n",
    "#print(len(select.options)) there are 25 options\n",
    "\n",
    "\n",
    "years = []                               #creating an empty list to store the years values\n",
    "for option in all_options:\n",
    "    op = option.text\n",
    "    years.append(op)\n",
    "print(years)\n",
    "\n",
    "#creating a loop to select all options inside the drop down list\n",
    "for y in years:\n",
    "    select.select_by_value(y)\n",
    "    driver.find_element_by_xpath(\".//*[@type='submit']\").click() #telling the driver to click \n",
    "                                                                 #each option\n",
    "    print('Downloading File From the Year Of {}'.format(y)) #printing each downloaded file\n",
    "    \n",
    "time.sleep(5)                                                    #wait some time before closing\n",
    "driver.close()                                                   # driver closes the website\n",
    "\n",
    "#first try to look for ID, if not possible, try the name, and least for class."
   ]
  }
 ],
 "metadata": {
  "kernelspec": {
   "display_name": "Python 3",
   "language": "python",
   "name": "python3"
  },
  "language_info": {
   "codemirror_mode": {
    "name": "ipython",
    "version": 3
   },
   "file_extension": ".py",
   "mimetype": "text/x-python",
   "name": "python",
   "nbconvert_exporter": "python",
   "pygments_lexer": "ipython3",
   "version": "3.7.6"
  }
 },
 "nbformat": 4,
 "nbformat_minor": 4
}
